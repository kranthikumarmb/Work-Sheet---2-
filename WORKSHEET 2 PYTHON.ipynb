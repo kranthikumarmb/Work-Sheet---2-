{
 "cells": [
  {
   "cell_type": "markdown",
   "id": "9264703a",
   "metadata": {},
   "source": [
    "# Q14 and Q15 are programming questions. Answer them in Jupyter Notebook"
   ]
  },
  {
   "cell_type": "raw",
   "id": "38142cb1",
   "metadata": {},
   "source": [
    "14. Write a python program to solve a quadratic equation of the form ax^2+bx+c=0. Where a, b and c are to be \n",
    "taken by user input. Handle the erroneous input, such as ‘a’ should not be equal to 0. "
   ]
  },
  {
   "cell_type": "code",
   "execution_count": 16,
   "id": "2b043375",
   "metadata": {},
   "outputs": [
    {
     "name": "stdout",
     "output_type": "stream",
     "text": [
      "Enter the value of a: 8\n",
      "Enter the value of b: 9\n",
      "Enter the value of c: 7\n",
      "The equation has no real roots\n"
     ]
    }
   ],
   "source": [
    "import math\n",
    "\n",
    "# Get user input for a, b, and c\n",
    "a = float(input(\"Enter the value of a: \"))\n",
    "if a == 0:\n",
    "    print(\"Error: a cannot be zero\")\n",
    "    exit()\n",
    "b = float(input(\"Enter the value of b: \"))\n",
    "c = float(input(\"Enter the value of c: \"))\n",
    "\n",
    "# Calculate the discriminant\n",
    "discriminant = b**2 - 4*a*c\n",
    "\n",
    "# Check the discriminant for real roots\n",
    "if discriminant < 0:\n",
    "    print(\"The equation has no real roots\")\n",
    "elif discriminant == 0:\n",
    "    # Calculate and print the single root\n",
    "    root = -b / (2*a)\n",
    "    print(f\"The equation has one root: {root}\")\n",
    "else:\n",
    "    # Calculate and print the two roots\n",
    "    root1 = (-b + math.sqrt(discriminant)) / (2*a)\n",
    "    root2 = (-b - math.sqrt(discriminant)) / (2*a)\n",
    "    print(f\"The equation has two roots: {root1} and {root2}\")\n"
   ]
  },
  {
   "cell_type": "raw",
   "id": "74433b6e",
   "metadata": {},
   "source": [
    "15. Write a python program to find the sum of first ‘n’ natural numbers without using any loop. Ask users to \n",
    "input the value of ‘n’"
   ]
  },
  {
   "cell_type": "code",
   "execution_count": 22,
   "id": "7c48fd53",
   "metadata": {},
   "outputs": [
    {
     "name": "stdout",
     "output_type": "stream",
     "text": [
      "Enter a positive integer n: 9\n",
      "The sum of the first 9 natural numbers is 45\n"
     ]
    }
   ],
   "source": [
    "n = int(input(\"Enter a positive integer n: \"))\n",
    "\n",
    "sum = (n * (n + 1)) // 2\n",
    "\n",
    "print(f\"The sum of the first {n} natural numbers is {sum}\")\n"
   ]
  },
  {
   "cell_type": "code",
   "execution_count": null,
   "id": "44cd3271",
   "metadata": {},
   "outputs": [],
   "source": []
  }
 ],
 "metadata": {
  "kernelspec": {
   "display_name": "Python 3 (ipykernel)",
   "language": "python",
   "name": "python3"
  },
  "language_info": {
   "codemirror_mode": {
    "name": "ipython",
    "version": 3
   },
   "file_extension": ".py",
   "mimetype": "text/x-python",
   "name": "python",
   "nbconvert_exporter": "python",
   "pygments_lexer": "ipython3",
   "version": "3.9.13"
  }
 },
 "nbformat": 4,
 "nbformat_minor": 5
}
